{
 "cells": [
  {
   "cell_type": "markdown",
   "metadata": {
    "collapsed": true
   },
   "source": [
    "# Imports"
   ]
  },
  {
   "cell_type": "code",
   "execution_count": 1,
   "metadata": {
    "collapsed": true
   },
   "outputs": [],
   "source": [
    "import numpy as np\n",
    "import pandas as pd\n",
    "import requests\n",
    "from io import BytesIO, StringIO\n",
    "import os"
   ]
  },
  {
   "cell_type": "markdown",
   "metadata": {},
   "source": [
    "## Download and prepare a labelled dataset with the url of the images"
   ]
  },
  {
   "cell_type": "code",
   "execution_count": 4,
   "metadata": {},
   "outputs": [
    {
     "name": "stderr",
     "output_type": "stream",
     "text": [
      "/home/kevin/anaconda3/lib/python3.6/site-packages/IPython/core/interactiveshell.py:2717: DtypeWarning: Columns (0,3,5,19,20,24,25,26,27,28,36,37,38,39,48) have mixed types. Specify dtype option on import or set low_memory=False.\n",
      "  interactivity=interactivity, compiler=compiler, result=result)\n"
     ]
    }
   ],
   "source": [
    "url = \"http://world.openfoodfacts.org/data/en.openfoodfacts.org.products.csv\"\n",
    "s = requests.get(url).content\n",
    "whole_data = pd.read_csv(StringIO(s.decode('utf-8')), sep='\\t')\n",
    "\n",
    "#Keep two brands only: Carrefour = 1 and Auchan = 0\n",
    "two_classes_data = whole_data.query(\"brands == 'Carrefour'|brands == 'Auchan'\")\n",
    "two_classes_data = two_classes_data.reset_index()\n",
    "two_classes_data = two_classes_data.loc[:,['brands','image_url',\n",
    "                                           #'image_small_url'\n",
    "                                          ]\n",
    "                                       ]\n",
    "\n",
    "#two_classes_data.brands.value_counts()\n",
    "two_classes_data.brands = two_classes_data.brands.str.replace('Carrefour', '1')\n",
    "two_classes_data.brands = two_classes_data.brands.str.replace('Auchan', '0')\n",
    "\n",
    "two_classes_data = two_classes_data.loc[two_classes_data.image_url.notnull(),:]\n",
    "two_classes_data = two_classes_data.reset_index()\n",
    "del two_classes_data['index']"
   ]
  },
  {
   "cell_type": "code",
   "execution_count": null,
   "metadata": {
    "collapsed": true
   },
   "outputs": [],
   "source": [
    "npixel = (300,400)\n",
    "wd_path = '/home/kevin/Desktop/OpenFoodFacts/OpenFoodFacts/data/csv'"
   ]
  },
  {
   "cell_type": "markdown",
   "metadata": {},
   "source": [
    "## Define an auxiliary function to download the images from their url"
   ]
  },
  {
   "cell_type": "code",
   "execution_count": 2,
   "metadata": {
    "collapsed": true
   },
   "outputs": [],
   "source": [
    "path = '/home/kevin/Desktop/OpenFoodFacts/OpenFoodFacts/data/images'\n",
    "\n",
    "def download_url(image_url, image_name, directory_path = path):\n",
    "    \"\"\"\n",
    "        Downloads the images from url into selected directory\n",
    "        \n",
    "        Arguments:\n",
    "            *url: the url of the site\n",
    "            *image_name: the name to use to save the image\n",
    "            *directory_path: the path of the directory where to save\n",
    "        \n",
    "        Returns:\n",
    "        \n",
    "    \"\"\"\n",
    "    r = requests.get(image_url)\n",
    "    pic = Image.open(BytesIO(r.content))\n",
    "    pic.save(os.path.join(path, image_name))\n",
    "    print(\"Saving the image {} in working directory \\n\".format(image_name))\n"
   ]
  },
  {
   "cell_type": "code",
   "execution_count": null,
   "metadata": {
    "collapsed": true
   },
   "outputs": [],
   "source": []
  },
  {
   "cell_type": "markdown",
   "metadata": {},
   "source": [
    "# Download with the right name and save in numpy format"
   ]
  },
  {
   "cell_type": "code",
   "execution_count": null,
   "metadata": {
    "collapsed": true
   },
   "outputs": [],
   "source": [
    "imgs = np.empty(shape = (0, npixel[1], npixel[0], 3), dtype = np.uint8)\n",
    "labels = np.empty(shape = (0,), dtype = np.bool)\n",
    "\n",
    "data = two_classes_data.head(10)\n",
    "for row in data.itertuples():\n",
    "    if row.brands == '1':\n",
    "        image_name = 'carrefour{}.jpg'.format(str(row.Index))\n",
    "    else:\n",
    "        image_name = 'auchan{}.jpg'.format(str(row.Index))\n",
    "    image_url = row.image_url\n",
    "    x = image_url_to_nparray(image_url,image_name)\n",
    "    print(row)\n",
    "    imgs = np.vstack([imgs, x])\n",
    "    labels = np.concatenate((labels, [row.brands]))\n",
    "\n",
    "np_path = '/home/kevin/Desktop/OpenFoodFacts/OpenFoodFacts/data/npy'\n",
    "imgs_np_path = os.path.join(np_path, 'images.npy')\n",
    "labels_np_path = os.path.join(np_path, 'labels.npy')\n",
    "np.save(imgs_np_path, imgs)\n",
    "np.save(labels_np_path, labels)"
   ]
  },
  {
   "cell_type": "markdown",
   "metadata": {},
   "source": [
    "## Load them into a numpy array"
   ]
  },
  {
   "cell_type": "code",
   "execution_count": null,
   "metadata": {
    "collapsed": true
   },
   "outputs": [],
   "source": [
    "np_path = '/home/kevin/Desktop/OpenFoodFacts/OpenFoodFacts/data/npy'\n",
    "imgs_np_path = os.path.join(np_path, 'images.npy')\n",
    "labels_np_path = os.path.join(np_path, 'labels.npy')\n",
    "Y = np.load(labels_np_path)\n",
    "X = np.load(imgs_np_path)"
   ]
  }
 ],
 "metadata": {
  "kernelspec": {
   "display_name": "Python 3",
   "language": "python",
   "name": "python3"
  },
  "language_info": {
   "codemirror_mode": {
    "name": "ipython",
    "version": 3
   },
   "file_extension": ".py",
   "mimetype": "text/x-python",
   "name": "python",
   "nbconvert_exporter": "python",
   "pygments_lexer": "ipython3",
   "version": "3.6.1"
  }
 },
 "nbformat": 4,
 "nbformat_minor": 2
}
