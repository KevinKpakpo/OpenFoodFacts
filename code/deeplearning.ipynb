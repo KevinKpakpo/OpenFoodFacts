{
 "cells": [
  {
   "cell_type": "code",
   "execution_count": 1,
   "metadata": {
    "collapsed": true
   },
   "outputs": [],
   "source": [
    "import numpy as np\n",
    "import pandas as pd\n",
    "import os"
   ]
  },
  {
   "cell_type": "code",
   "execution_count": 2,
   "metadata": {},
   "outputs": [
    {
     "name": "stderr",
     "output_type": "stream",
     "text": [
      "Using TensorFlow backend.\n"
     ]
    }
   ],
   "source": [
    "from keras.models import Sequential\n",
    "from keras.layers import Dense\n",
    "from sklearn.model_selection import train_test_split"
   ]
  },
  {
   "cell_type": "code",
   "execution_count": 3,
   "metadata": {
    "collapsed": true
   },
   "outputs": [],
   "source": [
    "wd_path = '/home/kevin/Desktop/OpenFoodFacts/OpenFoodFacts/data/csv'\n",
    "data_path = os.path.join(wd_path, 'data.csv')\n",
    "labels_path = os.path.join(wd_path, 'labels.csv')\n",
    "Y = pd.read_csv(labels_path)\n",
    "X = pd.read_csv(data_path)\n",
    "#Y = np.genfromtxt(labels_path, delimiter=',')\n",
    "#X = np.genfromtxt(data_path, delimiter=',', max_rows = 100)"
   ]
  },
  {
   "cell_type": "code",
   "execution_count": 11,
   "metadata": {},
   "outputs": [],
   "source": [
    "Y.head()\n",
    "#X.head()\n",
    "data = X.merge(Y, left_on='Unnamed: 0', right_on='image_name', how = 'inner')\n",
    "data.drop(['Unnamed: 0', 'image_name'], axis = 1, inplace = True)\n",
    "Y = data['label'].values\n",
    "X = data.drop('label', axis=1).values"
   ]
  },
  {
   "cell_type": "code",
   "execution_count": 15,
   "metadata": {},
   "outputs": [
    {
     "data": {
      "text/plain": [
       "(3145, 3600)"
      ]
     },
     "execution_count": 15,
     "metadata": {},
     "output_type": "execute_result"
    }
   ],
   "source": [
    "X.shape"
   ]
  },
  {
   "cell_type": "markdown",
   "metadata": {},
   "source": [
    "# fix random seed for reproducibility"
   ]
  },
  {
   "cell_type": "code",
   "execution_count": 16,
   "metadata": {
    "collapsed": true
   },
   "outputs": [],
   "source": [
    "np.random.seed(7)"
   ]
  },
  {
   "cell_type": "markdown",
   "metadata": {},
   "source": [
    "# create model"
   ]
  },
  {
   "cell_type": "code",
   "execution_count": 17,
   "metadata": {},
   "outputs": [],
   "source": [
    "model = Sequential()\n",
    "model.add(Dense(12, input_dim=X.shape[1], activation='relu'))\n",
    "model.add(Dense(8, activation='relu'))\n",
    "model.add(Dense(1, activation='sigmoid'))\n"
   ]
  },
  {
   "cell_type": "markdown",
   "metadata": {},
   "source": [
    "# Compile model"
   ]
  },
  {
   "cell_type": "code",
   "execution_count": 18,
   "metadata": {
    "collapsed": true
   },
   "outputs": [],
   "source": [
    "model.compile(loss='binary_crossentropy', optimizer='adam', metrics=['accuracy'])\n"
   ]
  },
  {
   "cell_type": "markdown",
   "metadata": {},
   "source": [
    "# Fit the model"
   ]
  },
  {
   "cell_type": "markdown",
   "metadata": {},
   "source": [
    "## Manual split"
   ]
  },
  {
   "cell_type": "code",
   "execution_count": 19,
   "metadata": {
    "collapsed": true
   },
   "outputs": [],
   "source": [
    "#X_train, X_test, y_train, y_test = train_test_split(X, Y, test_size=0.30, random_state=seed)\n",
    "#model.fit(X_train, y_train, validation_data=(X_test,y_test), epochs=150, batch_size=10)\n"
   ]
  },
  {
   "cell_type": "markdown",
   "metadata": {},
   "source": [
    "## Auto split"
   ]
  },
  {
   "cell_type": "code",
   "execution_count": 21,
   "metadata": {},
   "outputs": [
    {
     "name": "stdout",
     "output_type": "stream",
     "text": [
      "Train on 2201 samples, validate on 944 samples\n",
      "Epoch 1/15\n",
      "2201/2201 [==============================] - 0s - loss: 10.2011 - acc: 0.3671 - val_loss: 9.7323 - val_acc: 0.3962\n",
      "Epoch 2/15\n",
      "2201/2201 [==============================] - 0s - loss: 10.2011 - acc: 0.3671 - val_loss: 9.7323 - val_acc: 0.3962\n",
      "Epoch 3/15\n",
      "2201/2201 [==============================] - 0s - loss: 10.2011 - acc: 0.3671 - val_loss: 9.7323 - val_acc: 0.3962\n",
      "Epoch 4/15\n",
      "2201/2201 [==============================] - 0s - loss: 10.2011 - acc: 0.3671 - val_loss: 9.7323 - val_acc: 0.3962\n",
      "Epoch 5/15\n",
      "2201/2201 [==============================] - 0s - loss: 10.2011 - acc: 0.3671 - val_loss: 9.7323 - val_acc: 0.3962\n",
      "Epoch 6/15\n",
      "2201/2201 [==============================] - 0s - loss: 10.2011 - acc: 0.3671 - val_loss: 9.7323 - val_acc: 0.3962\n",
      "Epoch 7/15\n",
      "2201/2201 [==============================] - 0s - loss: 10.2011 - acc: 0.3671 - val_loss: 9.7323 - val_acc: 0.3962\n",
      "Epoch 8/15\n",
      "2201/2201 [==============================] - 0s - loss: 10.2011 - acc: 0.3671 - val_loss: 9.7323 - val_acc: 0.3962\n",
      "Epoch 9/15\n",
      "2201/2201 [==============================] - 0s - loss: 10.2011 - acc: 0.3671 - val_loss: 9.7323 - val_acc: 0.3962\n",
      "Epoch 10/15\n",
      "2201/2201 [==============================] - 0s - loss: 10.2011 - acc: 0.3671 - val_loss: 9.7323 - val_acc: 0.3962\n",
      "Epoch 11/15\n",
      "2201/2201 [==============================] - 0s - loss: 10.2011 - acc: 0.3671 - val_loss: 9.7323 - val_acc: 0.3962\n",
      "Epoch 12/15\n",
      "2201/2201 [==============================] - 0s - loss: 10.2011 - acc: 0.3671 - val_loss: 9.7323 - val_acc: 0.3962\n",
      "Epoch 13/15\n",
      "2201/2201 [==============================] - 0s - loss: 10.2011 - acc: 0.3671 - val_loss: 9.7323 - val_acc: 0.3962\n",
      "Epoch 14/15\n",
      "2201/2201 [==============================] - 0s - loss: 10.2011 - acc: 0.3671 - val_loss: 9.7323 - val_acc: 0.3962\n",
      "Epoch 15/15\n",
      "2201/2201 [==============================] - 0s - loss: 10.2011 - acc: 0.3671 - val_loss: 9.7323 - val_acc: 0.3962\n"
     ]
    },
    {
     "data": {
      "text/plain": [
       "<keras.callbacks.History at 0x7f9280ca1048>"
      ]
     },
     "execution_count": 21,
     "metadata": {},
     "output_type": "execute_result"
    }
   ],
   "source": [
    "model.fit(X, Y, validation_split=0.30, epochs=15, batch_size=10)"
   ]
  },
  {
   "cell_type": "markdown",
   "metadata": {},
   "source": [
    "# evaluate the model"
   ]
  },
  {
   "cell_type": "code",
   "execution_count": 22,
   "metadata": {},
   "outputs": [
    {
     "name": "stdout",
     "output_type": "stream",
     "text": [
      "2784/3145 [=========================>....] - ETA: 0s\n",
      "acc: 37.58%\n"
     ]
    }
   ],
   "source": [
    "scores = model.evaluate(X, Y)\n",
    "print(\"\\n%s: %.2f%%\" % (model.metrics_names[1], scores[1]*100))"
   ]
  },
  {
   "cell_type": "code",
   "execution_count": null,
   "metadata": {
    "collapsed": true
   },
   "outputs": [],
   "source": []
  }
 ],
 "metadata": {
  "kernelspec": {
   "display_name": "Python 3",
   "language": "python",
   "name": "python3"
  },
  "language_info": {
   "codemirror_mode": {
    "name": "ipython",
    "version": 3
   },
   "file_extension": ".py",
   "mimetype": "text/x-python",
   "name": "python",
   "nbconvert_exporter": "python",
   "pygments_lexer": "ipython3",
   "version": "3.6.1"
  }
 },
 "nbformat": 4,
 "nbformat_minor": 2
}
