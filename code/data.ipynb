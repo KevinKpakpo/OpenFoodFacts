{
 "cells": [
  {
   "cell_type": "markdown",
   "metadata": {
    "collapsed": true
   },
   "source": [
    "# Imports"
   ]
  },
  {
   "cell_type": "code",
   "execution_count": null,
   "metadata": {
    "collapsed": true
   },
   "outputs": [],
   "source": [
    "import numpy as np\n",
    "import pandas as pd\n",
    "import requests\n",
    "from io import BytesIO, StringIO\n",
    "import os"
   ]
  },
  {
   "cell_type": "markdown",
   "metadata": {},
   "source": [
    "## Download and prepare a labelled dataset with the url of the images"
   ]
  },
  {
   "cell_type": "code",
   "execution_count": null,
   "metadata": {
    "collapsed": true
   },
   "outputs": [],
   "source": [
    "url = \"http://world.openfoodfacts.org/data/en.openfoodfacts.org.products.csv\"\n",
    "s = requests.get(url).content\n",
    "whole_data = pd.read_csv(StringIO(s.decode('utf-8')), sep='\\t')\n",
    "\n",
    "#Keep two brands only: Carrefour = 1 and Auchan = 0\n",
    "two_classes_data = whole_data.query(\"brands == 'Carrefour'|brands == 'Auchan'\")\n",
    "two_classes_data = two_classes_data.reset_index()\n",
    "two_classes_data = two_classes_data.loc[:,['brands','image_url',\n",
    "                                           #'image_small_url'\n",
    "                                          ]\n",
    "                                       ]\n",
    "\n",
    "#two_classes_data.brands.value_counts()\n",
    "two_classes_data.brands = two_classes_data.brands.str.replace('Carrefour', '1')\n",
    "two_classes_data.brands = two_classes_data.brands.str.replace('Auchan', '0')\n",
    "\n",
    "two_classes_data = two_classes_data.loc[two_classes_data.image_url.notnull(),:]\n",
    "two_classes_data = two_classes_data.reset_index()\n",
    "del two_classes_data['index']\n",
    "\n",
    "two_classes_data['image_name'] = two_classes_data.image_url.str[44:].str.replace('/','')\n",
    "labels = two_classes_data.loc[:,['brands','image_name']].set_index('image_name')\n",
    "labels.rename(columns = {'brands':'label'}, inplace = True)\n",
    "labels.to_csv(os.path.join(wd_path,'labels.csv'))"
   ]
  },
  {
   "cell_type": "markdown",
   "metadata": {},
   "source": [
    "## Define an auxiliary function to download the images from their url"
   ]
  },
  {
   "cell_type": "code",
   "execution_count": 2,
   "metadata": {
    "collapsed": true
   },
   "outputs": [],
   "source": [
    "path = '/home/kevin/Desktop/OpenFoodFacts/OpenFoodFacts/data/images'\n",
    "\n",
    "def download_url(image_url, image_name, directory_path = path):\n",
    "    \"\"\"\n",
    "        Downloads the images from url into selected directory\n",
    "        \n",
    "        Arguments:\n",
    "            *url: the url of the site\n",
    "            *image_name: the name to use to save the image\n",
    "            *directory_path: the path of the directory where to save\n",
    "        \n",
    "        Returns:\n",
    "        \n",
    "    \"\"\"\n",
    "    r = requests.get(image_url)\n",
    "    pic = Image.open(BytesIO(r.content))\n",
    "    pic.save(os.path.join(path, image_name))\n",
    "    print(\"Saving the image {} in working directory \\n\".format(image_name))\n"
   ]
  },
  {
   "cell_type": "markdown",
   "metadata": {},
   "source": [
    "## Download the images in a directory"
   ]
  },
  {
   "cell_type": "code",
   "execution_count": null,
   "metadata": {
    "collapsed": true
   },
   "outputs": [],
   "source": [
    "two_classes_data.apply(lambda x: download_url(x['image_url'], x['image_name']), \n",
    "                       axis = 1)\n",
    " "
   ]
  },
  {
   "cell_type": "markdown",
   "metadata": {},
   "source": [
    "## Load them into a numpy array"
   ]
  },
  {
   "cell_type": "markdown",
   "metadata": {},
   "source": [
    "See the script \n",
    "```\n",
    "read.py\n",
    "```"
   ]
  },
  {
   "cell_type": "code",
   "execution_count": 3,
   "metadata": {
    "collapsed": true
   },
   "outputs": [],
   "source": [
    "#TODO: il manque les labels"
   ]
  },
  {
   "cell_type": "code",
   "execution_count": null,
   "metadata": {
    "collapsed": true
   },
   "outputs": [],
   "source": []
  }
 ],
 "metadata": {
  "kernelspec": {
   "display_name": "Python 3",
   "language": "python",
   "name": "python3"
  },
  "language_info": {
   "codemirror_mode": {
    "name": "ipython",
    "version": 3
   },
   "file_extension": ".py",
   "mimetype": "text/x-python",
   "name": "python",
   "nbconvert_exporter": "python",
   "pygments_lexer": "ipython3",
   "version": "3.6.1"
  }
 },
 "nbformat": 4,
 "nbformat_minor": 2
}
